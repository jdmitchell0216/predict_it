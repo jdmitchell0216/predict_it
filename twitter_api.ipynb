{
 "cells": [
  {
   "cell_type": "code",
   "execution_count": 1,
   "metadata": {},
   "outputs": [],
   "source": [
    "%load_ext dotenv\n",
    "%dotenv"
   ]
  },
  {
   "cell_type": "code",
   "execution_count": 2,
   "metadata": {},
   "outputs": [],
   "source": [
    "name_to_id = {\n",
    "    'realDonaldTrump': '25073877',   \n",
    "    'vp': '818910970567344128',\n",
    "    'whitehouse': '822215673812119553',\n",
    "    'potus': '822215679726100480'\n",
    "}"
   ]
  },
  {
   "cell_type": "code",
   "execution_count": 3,
   "metadata": {},
   "outputs": [],
   "source": [
    "import base64\n",
    "import os\n",
    "#Define your keys from the developer portal\n",
    "client_key = os.environ.get('TWITTER_KEY')\n",
    "client_secret = os.environ.get('TWITTER_SECRET')\n",
    "#Reformat the keys and encode them\n",
    "key_secret = '{}:{}'.format(client_key, client_secret).encode('ascii')\n",
    "\n",
    "# Transform from bytes to bytes that can be printed\n",
    "b64_encoded_key = base64.b64encode(key_secret)\n",
    "#Transform from bytes back into Unicode\n",
    "b64_encoded_key = b64_encoded_key.decode('ascii')"
   ]
  },
  {
   "cell_type": "code",
   "execution_count": 25,
   "metadata": {},
   "outputs": [],
   "source": [
    "base_url = 'https://api.twitter.com/'"
   ]
  },
  {
   "cell_type": "code",
   "execution_count": 26,
   "metadata": {},
   "outputs": [],
   "source": [
    "import requests\n",
    "auth_url = '{}oauth2/token'.format(base_url)\n",
    "auth_headers = {\n",
    "    'Authorization': 'Basic {}'.format(b64_encoded_key),\n",
    "    'Content-Type': 'application/x-www-form-urlencoded;charset=UTF-8'\n",
    "}\n",
    "auth_data = {\n",
    "    'grant_type': 'client_credentials'\n",
    "}\n",
    "auth_resp = requests.post(auth_url, headers=auth_headers, data=auth_data)"
   ]
  },
  {
   "cell_type": "code",
   "execution_count": 5,
   "metadata": {},
   "outputs": [
    {
     "name": "stdout",
     "output_type": "stream",
     "text": [
      "<Response [200]>\n"
     ]
    }
   ],
   "source": [
    "print(auth_resp)"
   ]
  },
  {
   "cell_type": "code",
   "execution_count": 27,
   "metadata": {},
   "outputs": [],
   "source": [
    "access_token = auth_resp.json()['access_token']"
   ]
  },
  {
   "cell_type": "code",
   "execution_count": 28,
   "metadata": {},
   "outputs": [],
   "source": [
    "search_headers = {\n",
    "    'Authorization': 'Bearer {}'.format(access_token)    \n",
    "}\n",
    "search_params = {\n",
    "    'q': 'NASA',\n",
    "    'result_type': 'recent',\n",
    "    'count': 2\n",
    "}\n",
    "search_url = '{}1.1/search/tweets.json'.format(base_url)\n",
    "search_resp = requests.get(search_url, headers=search_headers, params=search_params)"
   ]
  },
  {
   "cell_type": "code",
   "execution_count": 29,
   "metadata": {},
   "outputs": [],
   "source": [
    "import json \n",
    "search_headers = {\n",
    "    'Authorization': 'Bearer {}'.format(access_token)    \n",
    "}\n",
    "search_params = {\n",
    "    'q': 'NASA',\n",
    "    'result_type': 'recent',\n",
    "    'count': 10\n",
    "}\n",
    "# Create the URL\n",
    "search_url = '{}1.1/search/tweets.json'.format(base_url)\n",
    "# Execute the get request\n",
    "search_resp = requests.get(search_url, headers=search_headers, params=search_params)\n",
    "# Get the data from the request\n",
    "Data = json.loads( search_resp.content )\n",
    "# Print out the data!\n",
    "# print(Data['statuses'])"
   ]
  },
  {
   "cell_type": "code",
   "execution_count": 30,
   "metadata": {},
   "outputs": [
    {
     "data": {
      "text/plain": [
       "{'/search/tweets': {'limit': 450, 'remaining': 448, 'reset': 1567382267}}"
      ]
     },
     "execution_count": 30,
     "metadata": {},
     "output_type": "execute_result"
    }
   ],
   "source": [
    "url = 'https://api.twitter.com/1.1/application/rate_limit_status.json'\n",
    "#Execute the request\n",
    "search_resp = requests.get(url, headers=search_headers)\n",
    "#See the remaining rate limit\n",
    "json.loads(search_resp.content)['resources']['search']"
   ]
  },
  {
   "cell_type": "code",
   "execution_count": 47,
   "metadata": {},
   "outputs": [
    {
     "data": {
      "text/plain": [
       "1164169890917433346"
      ]
     },
     "execution_count": 47,
     "metadata": {},
     "output_type": "execute_result"
    }
   ],
   "source": [
    "json.loads(search_resp.content)[-1]['id']"
   ]
  },
  {
   "cell_type": "code",
   "execution_count": 19,
   "metadata": {},
   "outputs": [
    {
     "data": {
      "text/plain": [
       "'https://api.twitter.com/1.1/application/rate_limit_status.json'"
      ]
     },
     "execution_count": 19,
     "metadata": {},
     "output_type": "execute_result"
    }
   ],
   "source": [
    "https://api.twitter.com/1.1/statuses/user_timeline.json?screen_name=twitterapi&count=2"
   ]
  },
  {
   "cell_type": "code",
   "execution_count": 33,
   "metadata": {},
   "outputs": [],
   "source": [
    "search_url = '1.1/statuses/user_timeline.json'\n",
    "url = base_url + search_url\n",
    "\n",
    "search_headers = {\n",
    "    'Authorization': 'Bearer {}'.format(access_token)    \n",
    "}\n",
    "search_params = {\n",
    "    'user_id': '25073877',\n",
    "    'count': 200\n",
    "}\n",
    "\n",
    "search_resp = requests.get(url, headers=search_headers, params=search_params)"
   ]
  },
  {
   "cell_type": "code",
   "execution_count": 40,
   "metadata": {},
   "outputs": [
    {
     "data": {
      "text/plain": [
       "'https://api.twitter.com/1.1/statuses/user_timeline.json'"
      ]
     },
     "execution_count": 40,
     "metadata": {},
     "output_type": "execute_result"
    }
   ],
   "source": [
    "url"
   ]
  },
  {
   "cell_type": "code",
   "execution_count": 34,
   "metadata": {},
   "outputs": [],
   "source": [
    "test = json.loads( search_resp.content )"
   ]
  },
  {
   "cell_type": "code",
   "execution_count": 35,
   "metadata": {},
   "outputs": [
    {
     "data": {
      "text/plain": [
       "200"
      ]
     },
     "execution_count": 35,
     "metadata": {},
     "output_type": "execute_result"
    }
   ],
   "source": [
    "len(test)"
   ]
  },
  {
   "cell_type": "code",
   "execution_count": 39,
   "metadata": {},
   "outputs": [
    {
     "name": "stdout",
     "output_type": "stream",
     "text": [
      "dict_keys(['created_at', 'id', 'id_str', 'text', 'truncated', 'entities', 'extended_entities', 'source', 'in_reply_to_status_id', 'in_reply_to_status_id_str', 'in_reply_to_user_id', 'in_reply_to_user_id_str', 'in_reply_to_screen_name', 'user', 'geo', 'coordinates', 'place', 'contributors', 'is_quote_status', 'retweet_count', 'favorite_count', 'favorited', 'retweeted', 'possibly_sensitive', 'lang'])\n"
     ]
    }
   ],
   "source": [
    "test[0].keys()"
   ]
  },
  {
   "cell_type": "code",
   "execution_count": 117,
   "metadata": {},
   "outputs": [],
   "source": [
    "def get_all_tweets(user_id):\n",
    "    url = 'https://api.twitter.com/1.1/statuses/user_timeline.json'\n",
    "    \n",
    "    search_headers = {\n",
    "    'Authorization': 'Bearer {}'.format(access_token)    \n",
    "}\n",
    "    search_params = {\n",
    "    'user_id': user_id,\n",
    "    'count': 200,\n",
    "    'tweet_mode': 'extended' # added to eliminate 140 char limit. If it is a retweet, the full text is\n",
    "                            # found under the retweet_status\n",
    "}\n",
    "    \n",
    "    all_tweets = []\n",
    "    \n",
    "    new_tweets = json.loads(requests.get(url, headers=search_headers, params=search_params).content)\n",
    "    all_tweets.extend(new_tweets)\n",
    "    \n",
    "    #save the id of the oldest tweet less one\n",
    "    oldest = all_tweets[-1]['id'] - 1\n",
    "    \n",
    "    #keep grabbing tweets until there are no tweets left to grab\n",
    "    while len(new_tweets) > 0:\n",
    "        search_params['max_id'] = oldest\n",
    "        print(f\"getting tweets before {oldest}\")\n",
    "        \n",
    "        #all subsiquent requests use the max_id param to prevent duplicates\n",
    "        new_tweets = json.loads(requests.get(url, headers=search_headers, params=search_params).content)\n",
    "        \n",
    "        #save most recent tweets\n",
    "        all_tweets.extend(new_tweets)\n",
    "        \n",
    "        #update the id of the oldest tweet less one\n",
    "        oldest = all_tweets[-1]['id'] - 1\n",
    "        \n",
    "        print(f\"{len(all_tweets)} tweets downloaded so far\")\n",
    "    return all_tweets"
   ]
  },
  {
   "cell_type": "code",
   "execution_count": 48,
   "metadata": {},
   "outputs": [
    {
     "name": "stdout",
     "output_type": "stream",
     "text": [
      "getting tweets before 1165693064465326079\n",
      "400 tweets downloaded so far\n",
      "getting tweets before 1162848110118354943\n",
      "599 tweets downloaded so far\n",
      "getting tweets before 1159473911748317188\n",
      "798 tweets downloaded so far\n",
      "getting tweets before 1155235323938508799\n",
      "998 tweets downloaded so far\n",
      "getting tweets before 1151576111186399231\n",
      "1198 tweets downloaded so far\n",
      "getting tweets before 1148953550938152959\n",
      "1398 tweets downloaded so far\n",
      "getting tweets before 1144029093358235647\n",
      "1598 tweets downloaded so far\n",
      "getting tweets before 1139646919150620673\n",
      "1798 tweets downloaded so far\n",
      "getting tweets before 1135150118120939520\n",
      "1998 tweets downloaded so far\n",
      "getting tweets before 1130994855042273279\n",
      "2198 tweets downloaded so far\n",
      "getting tweets before 1127185907340255233\n",
      "2396 tweets downloaded so far\n",
      "getting tweets before 1124116620979445760\n",
      "2593 tweets downloaded so far\n",
      "getting tweets before 1120473592637153279\n",
      "2793 tweets downloaded so far\n",
      "getting tweets before 1115593488656211967\n",
      "2993 tweets downloaded so far\n",
      "getting tweets before 1108463989649014783\n",
      "3192 tweets downloaded so far\n",
      "getting tweets before 1104117283650035711\n",
      "3232 tweets downloaded so far\n",
      "getting tweets before 1102922327942139903\n",
      "3232 tweets downloaded so far\n"
     ]
    }
   ],
   "source": [
    "trump_tweets = get_all_tweets(name_to_id['realDonaldTrump'])"
   ]
  },
  {
   "cell_type": "code",
   "execution_count": 62,
   "metadata": {},
   "outputs": [],
   "source": [
    "import pandas as pd"
   ]
  },
  {
   "cell_type": "code",
   "execution_count": 49,
   "metadata": {},
   "outputs": [],
   "source": [
    "import json\n",
    "with open('trump_data.json', 'w', encoding='utf-8') as f:\n",
    "    json.dump(trump_tweets, f, ensure_ascii=False)"
   ]
  },
  {
   "cell_type": "code",
   "execution_count": 67,
   "metadata": {},
   "outputs": [],
   "source": [
    "df = pd.read_json('data.json')"
   ]
  },
  {
   "cell_type": "code",
   "execution_count": 70,
   "metadata": {},
   "outputs": [
    {
     "data": {
      "text/plain": [
       "contributors                        float64\n",
       "coordinates                         float64\n",
       "created_at                   datetime64[ns]\n",
       "entities                             object\n",
       "extended_entities                    object\n",
       "favorite_count                        int64\n",
       "favorited                              bool\n",
       "geo                                 float64\n",
       "id                                    int64\n",
       "id_str                                int64\n",
       "in_reply_to_screen_name              object\n",
       "in_reply_to_status_id               float64\n",
       "in_reply_to_status_id_str           float64\n",
       "in_reply_to_user_id                 float64\n",
       "in_reply_to_user_id_str             float64\n",
       "is_quote_status                        bool\n",
       "lang                                 object\n",
       "place                               float64\n",
       "possibly_sensitive                  float64\n",
       "quoted_status                        object\n",
       "quoted_status_id                    float64\n",
       "quoted_status_id_str                float64\n",
       "retweet_count                         int64\n",
       "retweeted                              bool\n",
       "retweeted_status                     object\n",
       "source                               object\n",
       "text                                 object\n",
       "truncated                              bool\n",
       "user                                 object\n",
       "withheld_in_countries                object\n",
       "dtype: object"
      ]
     },
     "execution_count": 70,
     "metadata": {},
     "output_type": "execute_result"
    }
   ],
   "source": [
    "df.dtypes"
   ]
  },
  {
   "cell_type": "code",
   "execution_count": 71,
   "metadata": {},
   "outputs": [
    {
     "name": "stdout",
     "output_type": "stream",
     "text": [
      "RangeIndex(start=0, stop=3192, step=1)\n"
     ]
    }
   ],
   "source": [
    "print(df.index)"
   ]
  },
  {
   "cell_type": "code",
   "execution_count": 72,
   "metadata": {},
   "outputs": [],
   "source": [
    "df.set_index(df[\"created_at\"],inplace=True)"
   ]
  },
  {
   "cell_type": "code",
   "execution_count": 79,
   "metadata": {},
   "outputs": [],
   "source": [
    "ts = df.id.resample('W').count()"
   ]
  },
  {
   "cell_type": "code",
   "execution_count": 78,
   "metadata": {},
   "outputs": [],
   "source": [
    "import matplotlib.pyplot as plt"
   ]
  },
  {
   "cell_type": "code",
   "execution_count": 87,
   "metadata": {},
   "outputs": [
    {
     "data": {
      "text/plain": [
       "created_at\n",
       "2019-03-03     55\n",
       "2019-03-10    105\n",
       "2019-03-17    127\n",
       "2019-03-24     60\n",
       "2019-03-31     68\n",
       "2019-04-07     85\n",
       "2019-04-14     86\n",
       "2019-04-21     98\n",
       "2019-04-28    126\n",
       "2019-05-05    175\n",
       "2019-05-12    188\n",
       "2019-05-19    105\n",
       "2019-05-26    141\n",
       "2019-06-02    103\n",
       "2019-06-09    105\n",
       "2019-06-16    145\n",
       "2019-06-23     75\n",
       "2019-06-30     93\n",
       "2019-07-07    131\n",
       "2019-07-14    200\n",
       "2019-07-21    119\n",
       "2019-07-28    148\n",
       "2019-08-04    118\n",
       "2019-08-11     89\n",
       "2019-08-18    186\n",
       "2019-08-25    201\n",
       "2019-09-01     60\n",
       "Freq: W-SUN, Name: id, dtype: int64"
      ]
     },
     "execution_count": 87,
     "metadata": {},
     "output_type": "execute_result"
    }
   ],
   "source": [
    "ts"
   ]
  },
  {
   "cell_type": "code",
   "execution_count": 83,
   "metadata": {},
   "outputs": [
    {
     "data": {
      "text/plain": [
       "DatetimeIndex(['2019-03-03', '2019-03-10', '2019-03-17', '2019-03-24',\n",
       "               '2019-03-31', '2019-04-07', '2019-04-14', '2019-04-21',\n",
       "               '2019-04-28', '2019-05-05', '2019-05-12', '2019-05-19',\n",
       "               '2019-05-26', '2019-06-02', '2019-06-09', '2019-06-16',\n",
       "               '2019-06-23', '2019-06-30', '2019-07-07', '2019-07-14',\n",
       "               '2019-07-21', '2019-07-28', '2019-08-04', '2019-08-11',\n",
       "               '2019-08-18', '2019-08-25', '2019-09-01'],\n",
       "              dtype='datetime64[ns]', name='created_at', freq='W-SUN')"
      ]
     },
     "execution_count": 83,
     "metadata": {},
     "output_type": "execute_result"
    }
   ],
   "source": [
    "ts.index"
   ]
  },
  {
   "cell_type": "code",
   "execution_count": 84,
   "metadata": {},
   "outputs": [
    {
     "data": {
      "text/plain": [
       "array([ 55, 105, 127,  60,  68,  85,  86,  98, 126, 175, 188, 105, 141,\n",
       "       103, 105, 145,  75,  93, 131, 200, 119, 148, 118,  89, 186, 201,\n",
       "        60])"
      ]
     },
     "execution_count": 84,
     "metadata": {},
     "output_type": "execute_result"
    }
   ],
   "source": [
    "ts.values"
   ]
  },
  {
   "cell_type": "code",
   "execution_count": 85,
   "metadata": {},
   "outputs": [
    {
     "name": "stderr",
     "output_type": "stream",
     "text": [
      "/anaconda3/lib/python3.7/site-packages/pandas/plotting/_converter.py:129: FutureWarning: Using an implicitly registered datetime converter for a matplotlib plotting method. The converter was registered by pandas on import. Future versions of pandas will require you to explicitly register matplotlib converters.\n",
      "\n",
      "To register the converters:\n",
      "\t>>> from pandas.plotting import register_matplotlib_converters\n",
      "\t>>> register_matplotlib_converters()\n",
      "  warnings.warn(msg, FutureWarning)\n"
     ]
    },
    {
     "data": {
      "text/plain": [
       "<BarContainer object of 27 artists>"
      ]
     },
     "execution_count": 85,
     "metadata": {},
     "output_type": "execute_result"
    },
    {
     "data": {
      "image/png": "[encoded data removed]",
      "text/plain": [
       "<Figure size 432x288 with 1 Axes>"
      ]
     },
     "metadata": {
      "needs_background": "light"
     },
     "output_type": "display_data"
    }
   ],
   "source": [
    "plt.bar(ts.index, ts.values)"
   ]
  },
  {
   "cell_type": "code",
   "execution_count": 86,
   "metadata": {},
   "outputs": [
    {
     "data": {
      "text/plain": [
       "[<matplotlib.lines.Line2D at 0x1288f8518>]"
      ]
     },
     "execution_count": 86,
     "metadata": {},
     "output_type": "execute_result"
    },
    {
     "data": {
      "image/png": "[encoded data removed]",
      "text/plain": [
       "<Figure size 432x288 with 1 Axes>"
      ]
     },
     "metadata": {
      "needs_background": "light"
     },
     "output_type": "display_data"
    }
   ],
   "source": [
    "plt.plot(ts.index, ts.values)"
   ]
  },
  {
   "cell_type": "code",
   "execution_count": 88,
   "metadata": {},
   "outputs": [],
   "source": [
    "ts2 = df.id.resample('W-WED').count()"
   ]
  },
  {
   "cell_type": "code",
   "execution_count": 89,
   "metadata": {},
   "outputs": [
    {
     "data": {
      "text/plain": [
       "created_at\n",
       "2019-02-27     20\n",
       "2019-03-06     79\n",
       "2019-03-13    115\n",
       "2019-03-20    108\n",
       "2019-03-27     59\n",
       "2019-04-03     63\n",
       "2019-04-10     94\n",
       "2019-04-17     86\n",
       "2019-04-24    136\n",
       "2019-05-01    129\n",
       "2019-05-08    151\n",
       "2019-05-15    182\n",
       "2019-05-22    125\n",
       "2019-05-29    106\n",
       "2019-06-05    110\n",
       "2019-06-12    107\n",
       "2019-06-19    142\n",
       "2019-06-26    102\n",
       "2019-07-03     76\n",
       "2019-07-10    130\n",
       "2019-07-17    195\n",
       "2019-07-24    147\n",
       "2019-07-31    144\n",
       "2019-08-07     97\n",
       "2019-08-14    124\n",
       "2019-08-21    179\n",
       "2019-08-28    171\n",
       "2019-09-04     15\n",
       "Freq: W-WED, Name: id, dtype: int64"
      ]
     },
     "execution_count": 89,
     "metadata": {},
     "output_type": "execute_result"
    }
   ],
   "source": [
    "ts2"
   ]
  },
  {
   "cell_type": "code",
   "execution_count": 34,
   "metadata": {},
   "outputs": [
    {
     "data": {
      "text/plain": [
       "{'realDonaldTrump': '25073877',\n",
       " 'vp': '818910970567344128',\n",
       " 'whitehouse': '822215673812119553',\n",
       " 'potus': '822215679726100480'}"
      ]
     },
     "execution_count": 34,
     "metadata": {},
     "output_type": "execute_result"
    }
   ],
   "source": [
    "name_to_id"
   ]
  },
  {
   "cell_type": "code",
   "execution_count": 60,
   "metadata": {},
   "outputs": [
    {
     "name": "stdout",
     "output_type": "stream",
     "text": [
      "getting tweets before 1159280686836174848\n",
      "400 tweets downloaded so far\n",
      "getting tweets before 1150818986751332352\n",
      "600 tweets downloaded so far\n",
      "getting tweets before 1139628208679280639\n",
      "800 tweets downloaded so far\n",
      "getting tweets before 1129049006200545280\n",
      "1000 tweets downloaded so far\n",
      "getting tweets before 1117843663999123455\n",
      "1200 tweets downloaded so far\n",
      "getting tweets before 1105165573279879167\n",
      "1400 tweets downloaded so far\n",
      "getting tweets before 1092522345875542015\n",
      "1600 tweets downloaded so far\n",
      "getting tweets before 1073281505093390336\n",
      "1800 tweets downloaded so far\n",
      "getting tweets before 1061715994090094592\n",
      "2000 tweets downloaded so far\n",
      "getting tweets before 1050445109156880383\n",
      "2200 tweets downloaded so far\n",
      "getting tweets before 1042044057227350015\n",
      "2400 tweets downloaded so far\n",
      "getting tweets before 1032699568419270656\n",
      "2600 tweets downloaded so far\n",
      "getting tweets before 1022847197434576896\n",
      "2800 tweets downloaded so far\n",
      "getting tweets before 1014983581943390207\n",
      "3000 tweets downloaded so far\n",
      "getting tweets before 1005126042686803967\n",
      "3200 tweets downloaded so far\n",
      "getting tweets before 996430635588702207\n",
      "3208 tweets downloaded so far\n",
      "getting tweets before 996412200213508096\n",
      "3208 tweets downloaded so far\n"
     ]
    }
   ],
   "source": [
    "vp_tweets = get_all_tweets(name_to_id['vp'])"
   ]
  },
  {
   "cell_type": "code",
   "execution_count": 61,
   "metadata": {},
   "outputs": [],
   "source": [
    "import json\n",
    "with open('vp_data.json', 'w', encoding='utf-8') as f:\n",
    "    json.dump(vp_tweets, f, ensure_ascii=False)"
   ]
  },
  {
   "cell_type": "code",
   "execution_count": 62,
   "metadata": {},
   "outputs": [
    {
     "name": "stdout",
     "output_type": "stream",
     "text": [
      "getting tweets before 1166031887242018815\n",
      "400 tweets downloaded so far\n",
      "getting tweets before 1162540297353662463\n",
      "600 tweets downloaded so far\n",
      "getting tweets before 1157747532031811583\n",
      "800 tweets downloaded so far\n",
      "getting tweets before 1154821004155412479\n",
      "1000 tweets downloaded so far\n",
      "getting tweets before 1152985338505248767\n",
      "1200 tweets downloaded so far\n",
      "getting tweets before 1150499477486297094\n",
      "1400 tweets downloaded so far\n",
      "getting tweets before 1147251305804644351\n",
      "1600 tweets downloaded so far\n",
      "getting tweets before 1144440176493649919\n",
      "1800 tweets downloaded so far\n",
      "getting tweets before 1141697247538753535\n",
      "2000 tweets downloaded so far\n",
      "getting tweets before 1138847934504677376\n",
      "2200 tweets downloaded so far\n",
      "getting tweets before 1136033906376028159\n",
      "2400 tweets downloaded so far\n",
      "getting tweets before 1132999917302157313\n",
      "2600 tweets downloaded so far\n",
      "getting tweets before 1129352868107100159\n",
      "2800 tweets downloaded so far\n",
      "getting tweets before 1126245894872076293\n",
      "3000 tweets downloaded so far\n",
      "getting tweets before 1123315135152476159\n",
      "3200 tweets downloaded so far\n",
      "getting tweets before 1118642292217266175\n",
      "3208 tweets downloaded so far\n",
      "getting tweets before 1118598553637670911\n",
      "3208 tweets downloaded so far\n"
     ]
    }
   ],
   "source": [
    "whitehouse_tweets = get_all_tweets(name_to_id['whitehouse'])"
   ]
  },
  {
   "cell_type": "code",
   "execution_count": 63,
   "metadata": {},
   "outputs": [],
   "source": [
    "import json\n",
    "with open('whitehouse_data.json', 'w', encoding='utf-8') as f:\n",
    "    json.dump(whitehouse_tweets, f, ensure_ascii=False)"
   ]
  },
  {
   "cell_type": "code",
   "execution_count": 114,
   "metadata": {},
   "outputs": [
    {
     "name": "stdout",
     "output_type": "stream",
     "text": [
      "162\n",
      "President @realDonaldTrump: “I ask everyone in Hurricane Dorian’s path to heed all warnings and evacuation orders from local authorities.” https://t.co/rg7uxs18GG\n"
     ]
    }
   ],
   "source": [
    "print(len(whitehouse_tweets[8]['full_text']))\n",
    "print(whitehouse_tweets[8]['full_text'])"
   ]
  },
  {
   "cell_type": "code",
   "execution_count": 64,
   "metadata": {},
   "outputs": [
    {
     "name": "stdout",
     "output_type": "stream",
     "text": [
      "getting tweets before 1159901400576532479\n",
      "400 tweets downloaded so far\n",
      "getting tweets before 1153291289590423557\n",
      "600 tweets downloaded so far\n",
      "getting tweets before 1144073837937659903\n",
      "800 tweets downloaded so far\n",
      "getting tweets before 1135895768383049727\n",
      "1000 tweets downloaded so far\n",
      "getting tweets before 1128260815386218495\n",
      "1200 tweets downloaded so far\n",
      "getting tweets before 1121151837846028288\n",
      "1400 tweets downloaded so far\n",
      "getting tweets before 1113782413597999103\n",
      "1600 tweets downloaded so far\n",
      "getting tweets before 1103033361579290624\n",
      "1800 tweets downloaded so far\n",
      "getting tweets before 1094721473833590785\n",
      "2000 tweets downloaded so far\n",
      "getting tweets before 1087495065453453311\n",
      "2200 tweets downloaded so far\n",
      "getting tweets before 1075956984418066432\n",
      "2400 tweets downloaded so far\n",
      "getting tweets before 1065616757505822720\n",
      "2600 tweets downloaded so far\n",
      "getting tweets before 1055847954295259136\n",
      "2800 tweets downloaded so far\n",
      "getting tweets before 1046795539675860991\n",
      "3000 tweets downloaded so far\n",
      "getting tweets before 1039237596512178176\n",
      "3200 tweets downloaded so far\n",
      "getting tweets before 1029070117282492415\n",
      "3220 tweets downloaded so far\n",
      "getting tweets before 1026586575893872639\n",
      "3220 tweets downloaded so far\n"
     ]
    }
   ],
   "source": [
    "potus_tweets = get_all_tweets(name_to_id['potus'])"
   ]
  },
  {
   "cell_type": "code",
   "execution_count": 65,
   "metadata": {},
   "outputs": [],
   "source": [
    "import json\n",
    "with open('potus_data.json', 'w', encoding='utf-8') as f:\n",
    "    json.dump(potus_tweets, f, ensure_ascii=False)"
   ]
  },
  {
   "cell_type": "code",
   "execution_count": 71,
   "metadata": {},
   "outputs": [
    {
     "data": {
      "text/plain": [
       "{'created_at': 'Sun Sep 01 14:01:29 +0000 2019',\n",
       " 'id': 1168161961542074369,\n",
       " 'id_str': '1168161961542074369',\n",
       " 'full_text': 'RT @realDonaldTrump: I have not forgotten that when it was announced that I was going to do The Apprentice, and when it then became a big h…',\n",
       " 'truncated': False,\n",
       " 'display_text_range': [0, 140],\n",
       " 'entities': {'hashtags': [],\n",
       "  'symbols': [],\n",
       "  'user_mentions': [{'screen_name': 'realDonaldTrump',\n",
       "    'name': 'Donald J. Trump',\n",
       "    'id': 25073877,\n",
       "    'id_str': '25073877',\n",
       "    'indices': [3, 19]}],\n",
       "  'urls': []},\n",
       " 'source': '<a href=\"https://www.whitehouse.gov/\" rel=\"nofollow\">WH Digital</a>',\n",
       " 'in_reply_to_status_id': None,\n",
       " 'in_reply_to_status_id_str': None,\n",
       " 'in_reply_to_user_id': None,\n",
       " 'in_reply_to_user_id_str': None,\n",
       " 'in_reply_to_screen_name': None,\n",
       " 'user': {'id': 822215679726100480,\n",
       "  'id_str': '822215679726100480',\n",
       "  'name': 'President Trump',\n",
       "  'screen_name': 'POTUS',\n",
       "  'location': 'Washington, D.C.',\n",
       "  'description': '45th President of the United States of America, @realDonaldTrump. Tweets archived: https://t.co/eVVzoBb3Zr',\n",
       "  'url': 'https://t.co/IxLjEB2zlE',\n",
       "  'entities': {'url': {'urls': [{'url': 'https://t.co/IxLjEB2zlE',\n",
       "      'expanded_url': 'http://WhiteHouse.gov',\n",
       "      'display_url': 'WhiteHouse.gov',\n",
       "      'indices': [0, 23]}]},\n",
       "   'description': {'urls': [{'url': 'https://t.co/eVVzoBb3Zr',\n",
       "      'expanded_url': 'http://wh.gov/privacy',\n",
       "      'display_url': 'wh.gov/privacy',\n",
       "      'indices': [83, 106]}]}},\n",
       "  'protected': False,\n",
       "  'followers_count': 26589008,\n",
       "  'friends_count': 39,\n",
       "  'listed_count': 23208,\n",
       "  'created_at': 'Thu Jan 19 22:54:28 +0000 2017',\n",
       "  'favourites_count': 104,\n",
       "  'utc_offset': None,\n",
       "  'time_zone': None,\n",
       "  'geo_enabled': True,\n",
       "  'verified': True,\n",
       "  'statuses_count': 6891,\n",
       "  'lang': None,\n",
       "  'contributors_enabled': False,\n",
       "  'is_translator': False,\n",
       "  'is_translation_enabled': False,\n",
       "  'profile_background_color': 'F5F8FA',\n",
       "  'profile_background_image_url': None,\n",
       "  'profile_background_image_url_https': None,\n",
       "  'profile_background_tile': False,\n",
       "  'profile_image_url': 'http://pbs.twimg.com/profile_images/859982100904148992/hv5soju7_normal.jpg',\n",
       "  'profile_image_url_https': 'https://pbs.twimg.com/profile_images/859982100904148992/hv5soju7_normal.jpg',\n",
       "  'profile_banner_url': 'https://pbs.twimg.com/profile_banners/822215679726100480/1549425227',\n",
       "  'profile_link_color': '1DA1F2',\n",
       "  'profile_sidebar_border_color': 'C0DEED',\n",
       "  'profile_sidebar_fill_color': 'DDEEF6',\n",
       "  'profile_text_color': '333333',\n",
       "  'profile_use_background_image': True,\n",
       "  'has_extended_profile': False,\n",
       "  'default_profile': True,\n",
       "  'default_profile_image': False,\n",
       "  'following': None,\n",
       "  'follow_request_sent': None,\n",
       "  'notifications': None,\n",
       "  'translator_type': 'regular'},\n",
       " 'geo': None,\n",
       " 'coordinates': None,\n",
       " 'place': None,\n",
       " 'contributors': None,\n",
       " 'retweeted_status': {'created_at': 'Sun Sep 01 13:26:03 +0000 2019',\n",
       "  'id': 1168153045026463747,\n",
       "  'id_str': '1168153045026463747',\n",
       "  'full_text': 'I have not forgotten that when it was announced that I was going to do The Apprentice, and when it then became a big hit, helping NBC’s failed lineup greatly, @DebraMessing came up to me at an Upfront &amp; profusely thanked me, even calling me “Sir.” How times have changed!',\n",
       "  'truncated': False,\n",
       "  'display_text_range': [0, 275],\n",
       "  'entities': {'hashtags': [],\n",
       "   'symbols': [],\n",
       "   'user_mentions': [{'screen_name': 'DebraMessing',\n",
       "     'name': 'Debra Messing',\n",
       "     'id': 499073990,\n",
       "     'id_str': '499073990',\n",
       "     'indices': [159, 172]}],\n",
       "   'urls': []},\n",
       "  'source': '<a href=\"http://twitter.com/download/iphone\" rel=\"nofollow\">Twitter for iPhone</a>',\n",
       "  'in_reply_to_status_id': None,\n",
       "  'in_reply_to_status_id_str': None,\n",
       "  'in_reply_to_user_id': None,\n",
       "  'in_reply_to_user_id_str': None,\n",
       "  'in_reply_to_screen_name': None,\n",
       "  'user': {'id': 25073877,\n",
       "   'id_str': '25073877',\n",
       "   'name': 'Donald J. Trump',\n",
       "   'screen_name': 'realDonaldTrump',\n",
       "   'location': 'Washington, DC',\n",
       "   'description': '45th President of the United States of America🇺🇸',\n",
       "   'url': 'https://t.co/OMxB0x7xC5',\n",
       "   'entities': {'url': {'urls': [{'url': 'https://t.co/OMxB0x7xC5',\n",
       "       'expanded_url': 'http://www.Instagram.com/realDonaldTrump',\n",
       "       'display_url': 'Instagram.com/realDonaldTrump',\n",
       "       'indices': [0, 23]}]},\n",
       "    'description': {'urls': []}},\n",
       "   'protected': False,\n",
       "   'followers_count': 63820118,\n",
       "   'friends_count': 47,\n",
       "   'listed_count': 108008,\n",
       "   'created_at': 'Wed Mar 18 13:46:38 +0000 2009',\n",
       "   'favourites_count': 7,\n",
       "   'utc_offset': None,\n",
       "   'time_zone': None,\n",
       "   'geo_enabled': True,\n",
       "   'verified': True,\n",
       "   'statuses_count': 43969,\n",
       "   'lang': None,\n",
       "   'contributors_enabled': False,\n",
       "   'is_translator': False,\n",
       "   'is_translation_enabled': True,\n",
       "   'profile_background_color': '6D5C18',\n",
       "   'profile_background_image_url': 'http://abs.twimg.com/images/themes/theme1/bg.png',\n",
       "   'profile_background_image_url_https': 'https://abs.twimg.com/images/themes/theme1/bg.png',\n",
       "   'profile_background_tile': True,\n",
       "   'profile_image_url': 'http://pbs.twimg.com/profile_images/874276197357596672/kUuht00m_normal.jpg',\n",
       "   'profile_image_url_https': 'https://pbs.twimg.com/profile_images/874276197357596672/kUuht00m_normal.jpg',\n",
       "   'profile_banner_url': 'https://pbs.twimg.com/profile_banners/25073877/1560920145',\n",
       "   'profile_link_color': '1B95E0',\n",
       "   'profile_sidebar_border_color': 'BDDCAD',\n",
       "   'profile_sidebar_fill_color': 'C5CEC0',\n",
       "   'profile_text_color': '333333',\n",
       "   'profile_use_background_image': True,\n",
       "   'has_extended_profile': False,\n",
       "   'default_profile': False,\n",
       "   'default_profile_image': False,\n",
       "   'following': None,\n",
       "   'follow_request_sent': None,\n",
       "   'notifications': None,\n",
       "   'translator_type': 'regular'},\n",
       "  'geo': None,\n",
       "  'coordinates': None,\n",
       "  'place': None,\n",
       "  'contributors': None,\n",
       "  'is_quote_status': False,\n",
       "  'retweet_count': 13976,\n",
       "  'favorite_count': 60145,\n",
       "  'favorited': False,\n",
       "  'retweeted': False,\n",
       "  'lang': 'en'},\n",
       " 'is_quote_status': False,\n",
       " 'retweet_count': 13976,\n",
       " 'favorite_count': 0,\n",
       " 'favorited': False,\n",
       " 'retweeted': False,\n",
       " 'lang': 'en'}"
      ]
     },
     "execution_count": 71,
     "metadata": {},
     "output_type": "execute_result"
    }
   ],
   "source": [
    "potus_tweets[4]"
   ]
  },
  {
   "cell_type": "code",
   "execution_count": null,
   "metadata": {},
   "outputs": [],
   "source": [
    "# looks like the potus account only does retweets"
   ]
  }
 ],
 "metadata": {
  "kernelspec": {
   "display_name": "base",
   "language": "python",
   "name": "base"
  },
  "language_info": {
   "codemirror_mode": {
    "name": "ipython",
    "version": 3
   },
   "file_extension": ".py",
   "mimetype": "text/x-python",
   "name": "python",
   "nbconvert_exporter": "python",
   "pygments_lexer": "ipython3",
   "version": "3.7.1"
  },
  "varInspector": {
   "cols": {
    "lenName": 16,
    "lenType": 16,
    "lenVar": 40
   },
   "kernels_config": {
    "python": {
     "delete_cmd_postfix": "",
     "delete_cmd_prefix": "del ",
     "library": "var_list.py",
     "varRefreshCmd": "print(var_dic_list())"
    },
    "r": {
     "delete_cmd_postfix": ") ",
     "delete_cmd_prefix": "rm(",
     "library": "var_list.r",
     "varRefreshCmd": "cat(var_dic_list()) "
    }
   },
   "types_to_exclude": [
    "module",
    "function",
    "builtin_function_or_method",
    "instance",
    "_Feature"
   ],
   "window_display": false
  }
 },
 "nbformat": 4,
 "nbformat_minor": 2
}
